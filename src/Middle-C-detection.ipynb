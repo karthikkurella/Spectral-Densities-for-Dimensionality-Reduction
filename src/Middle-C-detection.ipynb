{
 "cells": [
  {
   "cell_type": "code",
   "execution_count": 4,
   "id": "82929618",
   "metadata": {},
   "outputs": [
    {
     "name": "stderr",
     "output_type": "stream",
     "text": [
      "/var/folders/g8/ryts82jd3c33vl83y_np4dzm0000gn/T/ipykernel_35243/2456987838.py:8: WavFileWarning: Chunk (non-data) not understood, skipping it.\n",
      "  sampling_rate, data = wavfile.read('/Users/karthikkurella/Downloads/good-sounds/sound_files/trumpet_ramon_reference/neumann/0000.wav')\n"
     ]
    },
    {
     "data": {
      "image/png": "[encoded data removed]",
      "text/plain": [
       "<Figure size 1200x600 with 1 Axes>"
      ]
     },
     "metadata": {},
     "output_type": "display_data"
    },
    {
     "name": "stdout",
     "output_type": "stream",
     "text": [
      "Middle C detected in the audio.\n"
     ]
    }
   ],
   "source": [
    "import numpy as np\n",
    "import matplotlib.pyplot as plt\n",
    "from scipy.io import wavfile\n",
    "from scipy.fft import fft\n",
    "\n",
    "# Load the audio file (make sure the file path is correct)\n",
    "# This assumes the audio file is a WAV file\n",
    "sampling_rate, data = wavfile.read('/Users/karthikkurella/Downloads/good-sounds/sound_files/trumpet_ramon_reference/neumann/0000.wav')\n",
    "\n",
    "# If stereo, just take one channel\n",
    "if len(data.shape) > 1:\n",
    "    data = data[:, 0]\n",
    "\n",
    "# Apply FFT to the audio data\n",
    "fft_spectrum = fft(data)\n",
    "\n",
    "# Get the magnitude of the FFT\n",
    "magnitude = np.abs(fft_spectrum)\n",
    "\n",
    "# Create a frequency array\n",
    "frequency = np.linspace(0, sampling_rate, len(magnitude))\n",
    "\n",
    "# Only take the first half of the spectrum (since it is symmetrical and redundant)\n",
    "half_length = len(frequency)//2\n",
    "frequency = frequency[:half_length]\n",
    "magnitude = magnitude[:half_length]\n",
    "\n",
    "# Find the peak in the magnitude spectrum\n",
    "# We're interested in a small range around the middle C frequency\n",
    "middle_c_freq = 261.63\n",
    "tolerance = 5  # Define a tolerance range of 5 Hz around middle C frequency\n",
    "middle_c_peak = np.where((frequency > middle_c_freq - tolerance) & (frequency < middle_c_freq + tolerance), magnitude, 0)\n",
    "\n",
    "# Plot the spectrum\n",
    "plt.figure(figsize=(12, 6))\n",
    "plt.plot(frequency, magnitude)  # Plot the full spectrum\n",
    "plt.plot(frequency, middle_c_peak, color='r')  # Highlight the middle C peak\n",
    "plt.title('FFT Spectrum')\n",
    "plt.xlabel('Frequency (Hz)')\n",
    "plt.ylabel('Magnitude')\n",
    "plt.xlim(0, sampling_rate/2)  # Limit x-axis to half the sampling rate\n",
    "plt.grid(True)\n",
    "plt.show()\n",
    "\n",
    "# Check if there is a peak at middle C\n",
    "if np.any(middle_c_peak):\n",
    "    print(\"Middle C detected in the audio.\")\n",
    "else:\n",
    "    print(\"Middle C not detected in the audio.\")\n"
   ]
  },
  {
   "cell_type": "markdown",
   "id": "57e63536",
   "metadata": {},
   "source": [
    "## Perform for all files"
   ]
  },
  {
   "cell_type": "code",
   "execution_count": 6,
   "id": "00d1454d",
   "metadata": {},
   "outputs": [],
   "source": [
    "from scipy.signal import butter, filtfilt\n",
    "from scipy.signal import hann, welch\n",
    "import numpy as np\n",
    "import os\n",
    "\n",
    "from scipy.io import wavfile\n",
    "\n",
    "# instruments = ['flute_almudena_stability','violin_raquel_richness','clarinet_pablo_richness','trumpet_ramon_pitch_stability']\n",
    "instruments = ['cello_margarita_pitch_stability','violin_raquel_pitch_stability','clarinet_pablo_pitch_stability','trumpet_ramon_reference']\n",
    "\n",
    "# Read audio file\n",
    "filepath = \"/Users/karthikkurella/Downloads/good-sounds/sound_files/violin_raquel_pitch_stability/neumann\"\n"
   ]
  },
  {
   "cell_type": "code",
   "execution_count": 7,
   "id": "c9b6c3c8",
   "metadata": {},
   "outputs": [],
   "source": [
    "from scipy.signal import butter, filtfilt\n",
    "from scipy.signal import hann, welch\n",
    "import numpy as np\n",
    "import os\n",
    "\n",
    "from scipy.io import wavfile\n",
    "\n",
    "# instruments = ['flute_almudena_stability','violin_raquel_richness','clarinet_pablo_richness','trumpet_ramon_pitch_stability']\n",
    "instruments = ['cello_margarita_pitch_stability','violin_raquel_pitch_stability','clarinet_pablo_pitch_stability','trumpet_ramon_reference']\n",
    "\n",
    "# Read audio file\n",
    "filepath = \"/Users/karthikkurella/Downloads/good-sounds/sound_files/violin_raquel_pitch_stability/neumann\"\n"
   ]
  },
  {
   "cell_type": "code",
   "execution_count": 16,
   "id": "4f3c1287",
   "metadata": {},
   "outputs": [
    {
     "name": "stdout",
     "output_type": "stream",
     "text": [
      "62\n",
      "72\n",
      "91\n",
      "87\n"
     ]
    },
    {
     "data": {
      "text/plain": [
       "312"
      ]
     },
     "execution_count": 16,
     "metadata": {},
     "output_type": "execute_result"
    }
   ],
   "source": [
    "filelist = []\n",
    "filepath = \"/Users/karthikkurella/Downloads/good-sounds/sound_files/\"\n",
    "for i in instruments:\n",
    "    filetemp = filepath+i+'/'+'neumann'\n",
    "    counter = 0\n",
    "    for filename in os.listdir(filetemp):\n",
    "        if filename.endswith('.wav'):\n",
    "            filelist.append(filename)\n",
    "            counter+=1\n",
    "    print(counter)\n",
    "len(filelist)"
   ]
  },
  {
   "cell_type": "code",
   "execution_count": 13,
   "id": "ef58be4e",
   "metadata": {},
   "outputs": [
    {
     "name": "stderr",
     "output_type": "stream",
     "text": [
      "/var/folders/g8/ryts82jd3c33vl83y_np4dzm0000gn/T/ipykernel_35243/1066898374.py:20: WavFileWarning: Chunk (non-data) not understood, skipping it.\n",
      "  sampling_rate, data = wavfile.read(wf)\n"
     ]
    },
    {
     "name": "stdout",
     "output_type": "stream",
     "text": [
      "{'cello': 62, 'violin': 72, 'clarinet': 91, 'trumpet': 87}\n"
     ]
    }
   ],
   "source": [
    "audio_data = []\n",
    "\n",
    "import scipy.io\n",
    "from scipy.signal import butter, filtfilt\n",
    "from scipy.signal import hann, welch\n",
    "import numpy as np\n",
    "\n",
    "v = dict()\n",
    "Fbe = np.logspace(np.log10(10), np.log10(6000), 120)  # Placeholder using logspace\n",
    "filepath = \"/Users/karthikkurella/Downloads/good-sounds/sound_files/\"\n",
    "\n",
    "from scipy.io import wavfile\n",
    "\n",
    "import os\n",
    "for i,file in enumerate(instruments):\n",
    "    fp = filepath+''+file+'/neumann/'\n",
    "    arr = [fp + x for x in os.listdir(fp) if x.endswith('.wav')]\n",
    "    for j,f in enumerate(arr):\n",
    "        with open(f, 'rb') as wf:\n",
    "            sampling_rate, data = wavfile.read(wf)\n",
    "        # If stereo, just take one channel\n",
    "        if len(data.shape) > 1:\n",
    "            data = data[:, 0]\n",
    "\n",
    "        # Apply FFT to the audio data\n",
    "        fft_spectrum = fft(data)\n",
    "\n",
    "        # Get the magnitude of the FFT\n",
    "        magnitude = np.abs(fft_spectrum)\n",
    "\n",
    "        # Create a frequency array\n",
    "        frequency = np.linspace(0, sampling_rate, len(magnitude))\n",
    "\n",
    "        # Only take the first half of the spectrum (since it is symmetrical and redundant)\n",
    "        half_length = len(frequency)//2\n",
    "        frequency = frequency[:half_length]\n",
    "        magnitude = magnitude[:half_length]\n",
    "\n",
    "        # Find the peak in the magnitude spectrum\n",
    "        # Adding tolerance\n",
    "        middle_c_freq = 261.63\n",
    "        tolerance = 5  # Define a tolerance range of 5 Hz around middle C frequency\n",
    "        middle_c_peak = np.where((frequency > middle_c_freq - tolerance) & (frequency < middle_c_freq + tolerance), magnitude, 0)\n",
    "\n",
    "        file_name = file.split('_')[0]\n",
    "        # Check if there is a peak at middle C\n",
    "        if np.any(middle_c_peak):\n",
    "            if file_name in v:\n",
    "                v[file_name] += 1\n",
    "            else:\n",
    "                # Key is not present, add it to the dictionary with a value of 1\n",
    "                v[file_name] = 1\n",
    "        else:\n",
    "            print(f\"{fp} does not have middle_C\")\n",
    "print(v)"
   ]
  },
  {
   "cell_type": "code",
   "execution_count": 15,
   "id": "902994af",
   "metadata": {},
   "outputs": [
    {
     "data": {
      "text/plain": [
       "88"
      ]
     },
     "execution_count": 15,
     "metadata": {},
     "output_type": "execute_result"
    }
   ],
   "source": [
    "len(fp)"
   ]
  },
  {
   "cell_type": "code",
   "execution_count": null,
   "id": "3cc38e69",
   "metadata": {},
   "outputs": [],
   "source": []
  }
 ],
 "metadata": {
  "kernelspec": {
   "display_name": "Python 3 (ipykernel)",
   "language": "python",
   "name": "python3"
  },
  "language_info": {
   "codemirror_mode": {
    "name": "ipython",
    "version": 3
   },
   "file_extension": ".py",
   "mimetype": "text/x-python",
   "name": "python",
   "nbconvert_exporter": "python",
   "pygments_lexer": "ipython3",
   "version": "3.9.12"
  }
 },
 "nbformat": 4,
 "nbformat_minor": 5
}
